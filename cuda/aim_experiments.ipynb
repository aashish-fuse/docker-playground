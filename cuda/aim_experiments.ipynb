{
 "cells": [
  {
   "cell_type": "code",
   "execution_count": 3,
   "id": "07e47be6-2c09-4d03-8c39-6219b7a4c1c4",
   "metadata": {
    "execution": {
     "iopub.execute_input": "2024-02-16T09:49:12.150766Z",
     "iopub.status.busy": "2024-02-16T09:49:12.150479Z",
     "iopub.status.idle": "2024-02-16T09:49:12.154900Z",
     "shell.execute_reply": "2024-02-16T09:49:12.153926Z",
     "shell.execute_reply.started": "2024-02-16T09:49:12.150747Z"
    }
   },
   "outputs": [],
   "source": [
    "import torch\n",
    "import torch.nn as nn\n",
    "import torchvision\n",
    "import torchvision.transforms as transforms\n",
    "from aim.sdk.objects.image import convert_to_aim_image_list\n",
    "from tqdm import tqdm\n",
    "\n",
    "from aim import Run"
   ]
  },
  {
   "cell_type": "code",
   "execution_count": 6,
   "id": "e2363ed9-81d1-4ea0-a687-fbe554dac220",
   "metadata": {
    "execution": {
     "iopub.execute_input": "2024-02-16T09:49:55.932670Z",
     "iopub.status.busy": "2024-02-16T09:49:55.932218Z",
     "iopub.status.idle": "2024-02-16T09:49:56.065742Z",
     "shell.execute_reply": "2024-02-16T09:49:56.064901Z",
     "shell.execute_reply.started": "2024-02-16T09:49:55.932630Z"
    }
   },
   "outputs": [
    {
     "name": "stderr",
     "output_type": "stream",
     "text": [
      "Exception in thread Thread-16 (_stat_collector):\n",
      "Traceback (most recent call last):\n",
      "  File \"/home/fm-pc-lt-284/.local/share/micromamba/envs/ds_expert/lib/python3.10/threading.py\", line 1016, in _bootstrap_inner\n",
      "    self.run()\n",
      "  File \"/home/fm-pc-lt-284/.local/share/micromamba/envs/ds_expert/lib/python3.10/site-packages/ipykernel/ipkernel.py\", line 761, in run_closure\n",
      "    _threading_Thread_run(self)\n",
      "  File \"/home/fm-pc-lt-284/.local/share/micromamba/envs/ds_expert/lib/python3.10/threading.py\", line 953, in run\n",
      "    self._target(*self._args, **self._kwargs)\n",
      "  File \"/home/fm-pc-lt-284/.local/share/micromamba/envs/ds_expert/lib/python3.10/site-packages/aim/ext/resource/tracker.py\", line 171, in _stat_collector\n",
      "    stat = Stat(self._process)\n",
      "  File \"/home/fm-pc-lt-284/.local/share/micromamba/envs/ds_expert/lib/python3.10/site-packages/aim/ext/resource/stat.py\", line 101, in __init__\n",
      "    system, gpus = self.get_stats()\n",
      "  File \"/home/fm-pc-lt-284/.local/share/micromamba/envs/ds_expert/lib/python3.10/site-packages/aim/ext/resource/stat.py\", line 148, in get_stats\n",
      "    nvml.nvmlInit()\n",
      "  File \"/home/fm-pc-lt-284/.local/share/micromamba/envs/ds_expert/lib/python3.10/site-packages/py3nvml/py3nvml.py\", line 1093, in nvmlInit\n",
      "    _nvmlCheckReturn(ret)\n",
      "  File \"/home/fm-pc-lt-284/.local/share/micromamba/envs/ds_expert/lib/python3.10/site-packages/py3nvml/py3nvml.py\", line 719, in _nvmlCheckReturn\n",
      "    raise NVMLError(ret)\n",
      "py3nvml.py3nvml.NVMLError_LibRmVersionMismatch: RM has detected an NVML/RM version mismatch.\n"
     ]
    }
   ],
   "source": [
    "from pathlib import Path\n",
    "\n",
    "ROOT_DIR = Path().absolute()\n",
    "aim_run = Run(repo=str(Path(ROOT_DIR) / \"aim\"), experiment=\"mnist-expert-group\")"
   ]
  },
  {
   "cell_type": "code",
   "execution_count": null,
   "id": "1eeb4ce6-f7fd-4e0e-ba3f-cb533e57ba28",
   "metadata": {},
   "outputs": [],
   "source": [
    "device = torch.device(\"cpu\")\n",
    "\n",
    "\n",
    "# Hyper parameters\n",
    "num_epochs = 5\n",
    "num_classes = 10\n",
    "batch_size = 50\n",
    "learning_rate = 0.01\n",
    "\n",
    "\n",
    "# aim - Track hyper parameters\n",
    "aim_run[\"hparams\"] = {\n",
    "    \"num_epochs\": num_epochs,\n",
    "    \"num_classes\": num_classes,\n",
    "    \"batch_size\": batch_size,\n",
    "    \"learning_rate\": learning_rate,\n",
    "}"
   ]
  },
  {
   "cell_type": "code",
   "execution_count": null,
   "id": "2da2b94f-5a84-4e51-ada0-b1db7af2c974",
   "metadata": {},
   "outputs": [],
   "source": [
    "train_dataset = torchvision.datasets.MNIST(\n",
    "    root=\"./data/\", train=True, transform=transforms.ToTensor(), download=True\n",
    ")\n",
    "\n",
    "\n",
    "test_dataset = torchvision.datasets.MNIST(\n",
    "    root=\"./data/\", train=False, transform=transforms.ToTensor()\n",
    ")\n",
    "\n",
    "\n",
    "# Data loader\n",
    "train_loader = torch.utils.data.DataLoader(\n",
    "    dataset=train_dataset, batch_size=batch_size, shuffle=True\n",
    ")\n",
    "test_loader = torch.utils.data.DataLoader(\n",
    "    dataset=test_dataset, batch_size=batch_size, shuffle=False\n",
    ")"
   ]
  },
  {
   "cell_type": "code",
   "execution_count": null,
   "id": "7720164d-c4cc-4535-b339-7276a6b6ee40",
   "metadata": {},
   "outputs": [],
   "source": [
    "class ConvNet(nn.Module):\n",
    "    def __init__(self, num_classes=10):\n",
    "        super(ConvNet, self).__init__()\n",
    "        self.layer1 = nn.Sequential(\n",
    "            nn.Conv2d(1, 16, kernel_size=5, stride=1, padding=2),\n",
    "            nn.BatchNorm2d(16),\n",
    "            nn.ReLU(),\n",
    "            nn.MaxPool2d(kernel_size=2, stride=2),\n",
    "        )\n",
    "        self.layer2 = nn.Sequential(\n",
    "            nn.Conv2d(16, 32, kernel_size=5, stride=1, padding=2),\n",
    "            nn.BatchNorm2d(32),\n",
    "            nn.ReLU(),\n",
    "            nn.MaxPool2d(kernel_size=2, stride=2),\n",
    "        )\n",
    "        self.fc = nn.Linear(7 * 7 * 32, num_classes)\n",
    "\n",
    "    def forward(self, x):\n",
    "        out = self.layer1(x)\n",
    "        out = self.layer2(out)\n",
    "        out = out.reshape(out.size(0), -1)\n",
    "        out = self.fc(out)\n",
    "        return out\n",
    "\n",
    "\n",
    "model = ConvNet(num_classes).to(device)\n",
    "\n",
    "# Loss and optimizer\n",
    "criterion = nn.CrossEntropyLoss()\n",
    "optimizer = torch.optim.Adam(model.parameters(), lr=learning_rate)\n",
    "\n",
    "tensor_to_pil = transforms.ToPILImage()"
   ]
  },
  {
   "cell_type": "code",
   "execution_count": null,
   "id": "5380da98-954d-4d89-ac31-86984bd8791f",
   "metadata": {},
   "outputs": [],
   "source": [
    "# Train the model\n",
    "total_step = len(train_loader)\n",
    "for epoch in range(num_epochs):\n",
    "    for i, (images, labels) in tqdm(enumerate(train_loader), total=len(train_loader)):\n",
    "        images = images.to(device)\n",
    "        labels = labels.to(device)\n",
    "        aim_images = convert_to_aim_image_list(images, labels)\n",
    "\n",
    "        # Forward pass\n",
    "        outputs = model(images)\n",
    "        loss = criterion(outputs, labels)\n",
    "\n",
    "        # Backward and optimize\n",
    "        optimizer.zero_grad()\n",
    "        loss.backward()\n",
    "        optimizer.step()\n",
    "\n",
    "        if i % 30 == 0:\n",
    "            logging.info(\n",
    "                \"Epoch [{}/{}], Step [{}/{}], \" \"Loss: {:.4f}\".format(\n",
    "                    epoch + 1, num_epochs, i + 1, total_step, loss.item()\n",
    "                )\n",
    "            )\n",
    "\n",
    "            # aim - Track model loss function\n",
    "            aim_run.track(\n",
    "                loss.item(), name=\"loss\", epoch=epoch, context={\"subset\": \"train\"}\n",
    "            )\n",
    "\n",
    "            correct = 0\n",
    "            total = 0\n",
    "            _, predicted = torch.max(outputs.data, 1)\n",
    "            total += labels.size(0)\n",
    "            correct += (predicted == labels).sum().item()\n",
    "            acc = 100 * correct / total\n",
    "            # aim - Track metrics\n",
    "            aim_run.track(\n",
    "                acc, name=\"accuracy\", epoch=epoch, context={\"subset\": \"train\"}\n",
    "            )\n",
    "\n",
    "            aim_run.track(\n",
    "                aim_images, name=\"images\", epoch=epoch, context={\"subset\": \"train\"}\n",
    "            )\n",
    "\n",
    "            if i % 300 == 0:\n",
    "                aim_run.track(loss, name=\"loss\", epoch=epoch, context={\"subset\": \"val\"})\n",
    "                aim_run.track(\n",
    "                    acc, name=\"accuracy\", epoch=epoch, context={\"subset\": \"val\"}\n",
    "                )\n",
    "                aim_run.track(\n",
    "                    aim_images, name=\"images\", epoch=epoch, context={\"subset\": \"val\"}\n",
    "                )"
   ]
  },
  {
   "cell_type": "code",
   "execution_count": null,
   "id": "ef2b7906-9ab7-4040-b988-97ca7e27064b",
   "metadata": {},
   "outputs": [],
   "source": [
    "# Test the model\n",
    "model.eval()\n",
    "with torch.no_grad():\n",
    "    correct = 0\n",
    "    total = 0\n",
    "    for images, labels in tqdm(test_loader, total=len(test_loader)):\n",
    "        images = images.to(device)\n",
    "        labels = labels.to(device)\n",
    "        outputs = model(images)\n",
    "        _, predicted = torch.max(outputs.data, 1)\n",
    "        total += labels.size(0)\n",
    "        correct += (predicted == labels).sum().item()\n",
    "\n",
    "    logging.info(\"Test Accuracy: {} %\".format(100 * correct / total))"
   ]
  }
 ],
 "metadata": {
  "kernelspec": {
   "display_name": "Python 3 (ipykernel)",
   "language": "python",
   "name": "python3"
  },
  "language_info": {
   "codemirror_mode": {
    "name": "ipython",
    "version": 3
   },
   "file_extension": ".py",
   "mimetype": "text/x-python",
   "name": "python",
   "nbconvert_exporter": "python",
   "pygments_lexer": "ipython3",
   "version": "3.10.13"
  }
 },
 "nbformat": 4,
 "nbformat_minor": 5
}
